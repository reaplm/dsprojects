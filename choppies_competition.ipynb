{
 "cells": [
  {
   "cell_type": "markdown",
   "id": "2139cc33",
   "metadata": {},
   "source": [
    "# Choppies Competition"
   ]
  },
  {
   "cell_type": "markdown",
   "id": "5e90301b",
   "metadata": {},
   "source": [
    "## Choppies, Spar and Pick 'n Pay"
   ]
  },
  {
   "cell_type": "code",
   "execution_count": null,
   "id": "d6900f13",
   "metadata": {},
   "outputs": [],
   "source": [
    "#load choppies data\n",
    "choppies <- read.csv(\"choppies.csv\")\n",
    "str(choppies)\n"
   ]
  },
  {
   "cell_type": "code",
   "execution_count": null,
   "id": "e731d852",
   "metadata": {},
   "outputs": [],
   "source": [
    "#load picknpay data\n",
    "picknpay <- read.csv(\"picknpay.csv\")\n",
    "str(picknpay)"
   ]
  },
  {
   "cell_type": "code",
   "execution_count": null,
   "id": "925b9fdd",
   "metadata": {},
   "outputs": [],
   "source": [
    "#load spar data\n",
    "spar <- read.csv(\"spar.csv\")\n",
    "str(spar)"
   ]
  },
  {
   "cell_type": "code",
   "execution_count": 4,
   "id": "83e819c8",
   "metadata": {},
   "outputs": [],
   "source": [
    "merged_stores <- rbind(choppies, picknpay, spar)"
   ]
  },
  {
   "cell_type": "code",
   "execution_count": 5,
   "id": "c9dfee3a",
   "metadata": {},
   "outputs": [
    {
     "name": "stdout",
     "output_type": "stream",
     "text": [
      "'data.frame':\t154 obs. of  10 variables:\n",
      " $ Name      : chr  \"Choppies Bobonong\" \"Choppies Letlhakane\" \"Choppies Mahalapye\" \"Choppies Mahalapye\" ...\n",
      " $ District  : chr  \"Central\" \"Central\" \"Central\" \"Central\" ...\n",
      " $ Town      : chr  \"Bobonong\" \"Letlhakane\" \"Mahalapye\" \"Mahalapye\" ...\n",
      " $ Address   : chr  \"Moilamba Ward,Cash Bazaar building\" \"Nkosho Ward,Letlhakane\" \"Plot 6042, Main Mall, Mahalapye\" \"Watershed Mall, A1,  Mahalapye\" ...\n",
      " $ latitude  : num  -22 -21.4 -23.1 -23.1 NA ...\n",
      " $ longitude : num  28.4 25.6 26.8 26.8 NA ...\n",
      " $ Date      : chr  \"12/09/2012\" \"12/10/2007\" \"13/01/2012\" \"\" ...\n",
      " $ Cancelled : chr  NA NA NA NA ...\n",
      " $ Registered: chr  \"Y\" \"Y\" \"Y\" \"Y\" ...\n",
      " $ Store     : chr  \"choppies\" \"choppies\" \"choppies\" \"choppies\" ...\n"
     ]
    }
   ],
   "source": [
    "str(merged_stores)"
   ]
  },
  {
   "cell_type": "markdown",
   "id": "2b51c360",
   "metadata": {},
   "source": [
    "Converting variables to correct data type"
   ]
  },
  {
   "cell_type": "code",
   "execution_count": 6,
   "id": "ad4e2182",
   "metadata": {},
   "outputs": [
    {
     "name": "stdout",
     "output_type": "stream",
     "text": [
      "'data.frame':\t154 obs. of  11 variables:\n",
      " $ name      : chr  \"Choppies Bobonong\" \"Choppies Letlhakane\" \"Choppies Mahalapye\" \"Choppies Mahalapye\" ...\n",
      " $ district  : Factor w/ 14 levels \"Central\",\"Chobe\",..: 1 1 1 1 1 1 1 1 1 1 ...\n",
      " $ town      : chr  \"Bobonong\" \"Letlhakane\" \"Mahalapye\" \"Mahalapye\" ...\n",
      " $ address   : chr  \"Moilamba Ward,Cash Bazaar building\" \"Nkosho Ward,Letlhakane\" \"Plot 6042, Main Mall, Mahalapye\" \"Watershed Mall, A1,  Mahalapye\" ...\n",
      " $ latitude  : num  -22 -21.4 -23.1 -23.1 NA ...\n",
      " $ longitude : num  28.4 25.6 26.8 26.8 NA ...\n",
      " $ date      : Date, format: \"2012-09-12\" \"2007-10-12\" ...\n",
      " $ cancelled : chr  NA NA NA NA ...\n",
      " $ registered: chr  \"Y\" \"Y\" \"Y\" \"Y\" ...\n",
      " $ store     : chr  \"choppies\" \"choppies\" \"choppies\" \"choppies\" ...\n",
      " $ year      : num  2012 2007 2012 NA 2012 ...\n"
     ]
    }
   ],
   "source": [
    "names(merged_stores) <- tolower(names(merged_stores))\n",
    "merged_stores$district <- factor(merged_stores$district)\n",
    "merged_stores$date <- as.Date(merged_stores$date, \"%d/%m/%Y\")\n",
    "merged_stores$year <- as.numeric(format(merged_stores$date, \"%Y\"))\n",
    "str(merged_stores)"
   ]
  },
  {
   "cell_type": "code",
   "execution_count": 7,
   "id": "64f0d81b",
   "metadata": {},
   "outputs": [
    {
     "data": {
      "text/plain": [
       "     name                 district      town             address         \n",
       " Length:154         South-East:59   Length:154         Length:154        \n",
       " Class :character   Central   :29   Class :character   Class :character  \n",
       " Mode  :character   Kweneng   :22   Mode  :character   Mode  :character  \n",
       "                    North-East:12                                        \n",
       "                    Southern  :10                                        \n",
       "                    North-West: 6                                        \n",
       "                    (Other)   :16                                        \n",
       "    latitude        longitude          date             cancelled        \n",
       " Min.   :-26.02   Min.   :21.64   Min.   :1994-09-23   Length:154        \n",
       " 1st Qu.:-24.66   1st Qu.:25.58   1st Qu.:2010-04-08   Class :character  \n",
       " Median :-24.60   Median :25.89   Median :2013-06-27   Mode  :character  \n",
       " Mean   :-23.41   Mean   :25.88   Mean   :2012-07-04                     \n",
       " 3rd Qu.:-21.97   3rd Qu.:26.35   3rd Qu.:2016-03-05                     \n",
       " Max.   :-17.80   Max.   :28.42   Max.   :2022-04-28                     \n",
       " NA's   :35       NA's   :35      NA's   :14                             \n",
       "  registered           store                year     \n",
       " Length:154         Length:154         Min.   :1994  \n",
       " Class :character   Class :character   1st Qu.:2010  \n",
       " Mode  :character   Mode  :character   Median :2013  \n",
       "                                       Mean   :2012  \n",
       "                                       3rd Qu.:2016  \n",
       "                                       Max.   :2022  \n",
       "                                       NA's   :14    "
      ]
     },
     "metadata": {},
     "output_type": "display_data"
    }
   ],
   "source": [
    "summary(merged_stores)"
   ]
  },
  {
   "cell_type": "markdown",
   "id": "052583b8",
   "metadata": {},
   "source": [
    "## Choppies Market Share"
   ]
  },
  {
   "cell_type": "code",
   "execution_count": null,
   "id": "a92656e0",
   "metadata": {},
   "outputs": [],
   "source": [
    "library(dplyr)\n",
    "library(ggplot2)\n",
    "library(viridis)\n",
    "library(rnaturalearth)\n",
    "library(rnaturalearthhires)\n",
    "library(plotly)"
   ]
  },
  {
   "cell_type": "markdown",
   "id": "5a4cc1b8",
   "metadata": {},
   "source": [
    "### The number of stores owned by choppies vs other major stores"
   ]
  },
  {
   "cell_type": "code",
   "execution_count": 9,
   "id": "add7b270",
   "metadata": {
    "scrolled": true
   },
   "outputs": [
    {
     "data": {
      "text/html": [
       "<table class=\"dataframe\">\n",
       "<caption>A tibble: 3 × 3</caption>\n",
       "<thead>\n",
       "\t<tr><th scope=col>store</th><th scope=col>count</th><th scope=col>percent</th></tr>\n",
       "\t<tr><th scope=col>&lt;chr&gt;</th><th scope=col>&lt;int&gt;</th><th scope=col>&lt;dbl&gt;</th></tr>\n",
       "</thead>\n",
       "<tbody>\n",
       "\t<tr><td>choppies</td><td>108</td><td>70.13</td></tr>\n",
       "\t<tr><td>picknpay</td><td> 12</td><td> 7.79</td></tr>\n",
       "\t<tr><td>spar    </td><td> 34</td><td>22.08</td></tr>\n",
       "</tbody>\n",
       "</table>\n"
      ],
      "text/latex": [
       "A tibble: 3 × 3\n",
       "\\begin{tabular}{lll}\n",
       " store & count & percent\\\\\n",
       " <chr> & <int> & <dbl>\\\\\n",
       "\\hline\n",
       "\t choppies & 108 & 70.13\\\\\n",
       "\t picknpay &  12 &  7.79\\\\\n",
       "\t spar     &  34 & 22.08\\\\\n",
       "\\end{tabular}\n"
      ],
      "text/markdown": [
       "\n",
       "A tibble: 3 × 3\n",
       "\n",
       "| store &lt;chr&gt; | count &lt;int&gt; | percent &lt;dbl&gt; |\n",
       "|---|---|---|\n",
       "| choppies | 108 | 70.13 |\n",
       "| picknpay |  12 |  7.79 |\n",
       "| spar     |  34 | 22.08 |\n",
       "\n"
      ],
      "text/plain": [
       "  store    count percent\n",
       "1 choppies 108   70.13  \n",
       "2 picknpay  12    7.79  \n",
       "3 spar      34   22.08  "
      ]
     },
     "metadata": {},
     "output_type": "display_data"
    }
   ],
   "source": [
    "merged_stores %>%\n",
    "group_by(store) %>%\n",
    "summarise(count = n()) %>%\n",
    "mutate(percent = round(100*count/sum(count), 2))"
   ]
  },
  {
   "cell_type": "markdown",
   "id": "4f5caecd",
   "metadata": {},
   "source": [
    "#### Number of Stores in Gaborone"
   ]
  },
  {
   "cell_type": "code",
   "execution_count": 10,
   "id": "e2a991cc",
   "metadata": {},
   "outputs": [
    {
     "data": {
      "text/html": [
       "<table class=\"dataframe\">\n",
       "<caption>A tibble: 3 × 3</caption>\n",
       "<thead>\n",
       "\t<tr><th scope=col>store</th><th scope=col>count</th><th scope=col>percent</th></tr>\n",
       "\t<tr><th scope=col>&lt;chr&gt;</th><th scope=col>&lt;int&gt;</th><th scope=col>&lt;dbl&gt;</th></tr>\n",
       "</thead>\n",
       "<tbody>\n",
       "\t<tr><td>choppies</td><td>28</td><td>68.29</td></tr>\n",
       "\t<tr><td>picknpay</td><td> 5</td><td>12.20</td></tr>\n",
       "\t<tr><td>spar    </td><td> 8</td><td>19.51</td></tr>\n",
       "</tbody>\n",
       "</table>\n"
      ],
      "text/latex": [
       "A tibble: 3 × 3\n",
       "\\begin{tabular}{lll}\n",
       " store & count & percent\\\\\n",
       " <chr> & <int> & <dbl>\\\\\n",
       "\\hline\n",
       "\t choppies & 28 & 68.29\\\\\n",
       "\t picknpay &  5 & 12.20\\\\\n",
       "\t spar     &  8 & 19.51\\\\\n",
       "\\end{tabular}\n"
      ],
      "text/markdown": [
       "\n",
       "A tibble: 3 × 3\n",
       "\n",
       "| store &lt;chr&gt; | count &lt;int&gt; | percent &lt;dbl&gt; |\n",
       "|---|---|---|\n",
       "| choppies | 28 | 68.29 |\n",
       "| picknpay |  5 | 12.20 |\n",
       "| spar     |  8 | 19.51 |\n",
       "\n"
      ],
      "text/plain": [
       "  store    count percent\n",
       "1 choppies 28    68.29  \n",
       "2 picknpay  5    12.20  \n",
       "3 spar      8    19.51  "
      ]
     },
     "metadata": {},
     "output_type": "display_data"
    }
   ],
   "source": [
    "merged_stores %>%\n",
    "filter(town == \"Gaborone\") %>%\n",
    "group_by(store) %>%\n",
    "summarise(count = n()) %>%\n",
    "mutate(percent = round(100*count/sum(count), 2))"
   ]
  },
  {
   "cell_type": "code",
   "execution_count": 11,
   "id": "71864987",
   "metadata": {},
   "outputs": [
    {
     "data": {
      "image/png": "[encoded data removed]",
      "text/plain": [
       "plot without title"
      ]
     },
     "metadata": {
      "image/png": {
       "height": 420,
       "width": 420
      }
     },
     "output_type": "display_data"
    }
   ],
   "source": [
    "merged_stores %>%\n",
    "filter(!is.na(year)) %>%\n",
    "ggplot(aes(year, fill = store)) +\n",
    "geom_bar() + \n",
    "ggtitle(\"Stores registered between 1994 and 2022\") +\n",
    "theme(plot.title = element_text(hjust = 0.5)) +\n",
    "geom_text(aes(label = after_stat(count)), stat = \"count\",\n",
    "         position = position_stack(vjust = 0.5),\n",
    "         color = \"white\") + \n",
    "scale_fill_viridis(discrete = TRUE)"
   ]
  },
  {
   "cell_type": "code",
   "execution_count": null,
   "id": "055751de",
   "metadata": {
    "scrolled": true
   },
   "outputs": [],
   "source": [
    "df <- merged_stores %>%\n",
    "filter(!is.na(year), !is.na(latitude), !is.na(latitude))\n",
    "summary(df)"
   ]
  },
  {
   "cell_type": "code",
   "execution_count": null,
   "id": "a5dd6825",
   "metadata": {},
   "outputs": [],
   "source": [
    "library(rnaturalearth)\n",
    "library(rnaturalearthhires)"
   ]
  },
  {
   "cell_type": "code",
   "execution_count": 20,
   "id": "228ed77b",
   "metadata": {},
   "outputs": [
    {
     "data": {
      "image/png": "[encoded data removed]",
      "text/plain": [
       "plot without title"
      ]
     },
     "metadata": {
      "image/png": {
       "height": 600,
       "width": 1200
      }
     },
     "output_type": "display_data"
    }
   ],
   "source": [
    "options(repr.plot.width=20, repr.plot.height=10)\n",
    "BW <- ne_states(country = 'botswana', returnclass = 'sf')\n",
    "set.seed(3)\n",
    "ggplot(data = BW) + geom_sf() +\n",
    "geom_jitter(data = df, \n",
    "           mapping=aes(x = longitude, y = latitude, \n",
    "               colour = store, alpha = 0.5), \n",
    "            width = 0.1, height = 0.15) +\n",
    "ggtitle(\"Locations of Choppies, Pick 'n Pay and Spar\") +\n",
    "theme(plot.title = element_text(hjust = 0.5)) +\n",
    "scale_color_viridis_d()\n",
    "\n",
    "#ggplot(g)"
   ]
  },
  {
   "cell_type": "code",
   "execution_count": 21,
   "id": "026a3b9d",
   "metadata": {},
   "outputs": [],
   "source": [
    "library(gganimate)\n",
    "library(gifski)"
   ]
  },
  {
   "cell_type": "code",
   "execution_count": 22,
   "id": "cb49c641",
   "metadata": {},
   "outputs": [],
   "source": [
    "num_years <- max(df$year) - min(df$year) + 1\n",
    "\n",
    "map_data <- ggplot(BW) + geom_sf() +\n",
    "geom_jitter(data = df, \n",
    "            mapping = aes(x = longitude, \n",
    "                        y = latitude, color = store,\n",
    "                         alpha = 0.5, group = year), \n",
    "            width = 0.1, height = 0.15) +\n",
    "scale_color_viridis(discrete = TRUE)\n",
    "\n",
    "map_with_animation <- map_data +\n",
    "transition_time(year) +\n",
    "ggtitle(\"Stores registered in {frame_time}\") +\n",
    "theme(plot.title = element_text(hjust = 0.5))\n",
    "\n",
    "map_with_animation <- map_with_animation +\n",
    "shadow_mark()\n",
    "\n",
    "animate(map_with_animation, nframes = num_years, fps = 1)\n",
    "\n",
    "#save the gif\n",
    "anim_save(\"stores_registered.gif\")\n"
   ]
  }
 ],
 "metadata": {
  "kernelspec": {
   "display_name": "R",
   "language": "R",
   "name": "ir"
  },
  "language_info": {
   "codemirror_mode": "r",
   "file_extension": ".r",
   "mimetype": "text/x-r-source",
   "name": "R",
   "pygments_lexer": "r",
   "version": "4.1.3"
  }
 },
 "nbformat": 4,
 "nbformat_minor": 5
}
