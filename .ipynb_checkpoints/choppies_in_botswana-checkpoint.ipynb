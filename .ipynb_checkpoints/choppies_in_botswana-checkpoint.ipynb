{
 "cells": [
  {
   "cell_type": "markdown",
   "id": "b44551c5",
   "metadata": {},
   "source": [
    "# Choppies in Botswana"
   ]
  },
  {
   "cell_type": "markdown",
   "id": "b407d698",
   "metadata": {},
   "source": [
    "## Data Summary"
   ]
  },
  {
   "cell_type": "code",
   "execution_count": 224,
   "id": "60ebd8f0",
   "metadata": {},
   "outputs": [],
   "source": [
    "choppies <- read.csv(\"choppies.csv\")"
   ]
  },
  {
   "cell_type": "code",
   "execution_count": 225,
   "id": "2a259bca",
   "metadata": {},
   "outputs": [],
   "source": [
    "choppies$Date <- as.Date(choppies$Date, \"%d/%m/%Y\")\n",
    "choppies$year <- as.numeric(format(choppies$Date, \"%Y\"))\n",
    "choppies$District <- factor(choppies$District)"
   ]
  },
  {
   "cell_type": "code",
   "execution_count": 226,
   "id": "6e4b0bdc",
   "metadata": {},
   "outputs": [
    {
     "name": "stdout",
     "output_type": "stream",
     "text": [
      "'data.frame':\t108 obs. of  11 variables:\n",
      " $ Name      : chr  \"Choppies Bobonong\" \"Choppies Letlhakane\" \"Choppies Mahalapye\" \"Choppies Mahalapye\" ...\n",
      " $ District  : Factor w/ 13 levels \"Central\",\"Chobe\",..: 1 1 1 1 1 1 1 1 1 1 ...\n",
      " $ Town      : chr  \"Bobonong\" \"Letlhakane\" \"Mahalapye\" \"Mahalapye\" ...\n",
      " $ Address   : chr  \"Moilamba Ward,Cash Bazaar building\" \"Nkosho Ward,Letlhakane\" \"Plot 6042, Main Mall, Mahalapye\" \"Watershed Mall, A1,  Mahalapye\" ...\n",
      " $ latitude  : num  -22 -21.4 -23.1 -23.1 NA ...\n",
      " $ longitude : num  28.4 25.6 26.8 26.8 NA ...\n",
      " $ Date      : Date, format: \"2012-09-12\" \"2007-10-12\" ...\n",
      " $ Cancelled : logi  NA NA NA NA NA NA ...\n",
      " $ Registered: chr  \"Y\" \"Y\" \"Y\" \"Y\" ...\n",
      " $ Store     : chr  \"choppies\" \"choppies\" \"choppies\" \"choppies\" ...\n",
      " $ year      : num  2012 2007 2012 NA 2012 ...\n"
     ]
    }
   ],
   "source": [
    "str(choppies)"
   ]
  },
  {
   "cell_type": "code",
   "execution_count": 227,
   "id": "265321ba",
   "metadata": {},
   "outputs": [
    {
     "data": {
      "text/plain": [
       "     Name                 District      Town             Address         \n",
       " Length:108         South-East:42   Length:108         Length:108        \n",
       " Class :character   Kweneng   :18   Class :character   Class :character  \n",
       " Mode  :character   Central   :17   Mode  :character   Mode  :character  \n",
       "                    Southern  : 9                                        \n",
       "                    North-East: 7                                        \n",
       "                    North-West: 4                                        \n",
       "                    (Other)   :11                                        \n",
       "    latitude        longitude          Date            Cancelled     \n",
       " Min.   :-26.02   Min.   :21.64   Min.   :1999-11-02   Mode:logical  \n",
       " 1st Qu.:-24.66   1st Qu.:25.55   1st Qu.:2006-03-16   NA's:108      \n",
       " Median :-24.61   Median :25.87   Median :2012-06-22                 \n",
       " Mean   :-23.48   Mean   :25.81   Mean   :2011-09-14                 \n",
       " 3rd Qu.:-21.98   3rd Qu.:26.11   3rd Qu.:2014-10-28                 \n",
       " Max.   :-17.80   Max.   :28.42   Max.   :2021-10-28                 \n",
       " NA's   :29       NA's   :29      NA's   :10                         \n",
       "  Registered           Store                year     \n",
       " Length:108         Length:108         Min.   :1999  \n",
       " Class :character   Class :character   1st Qu.:2006  \n",
       " Mode  :character   Mode  :character   Median :2012  \n",
       "                                       Mean   :2011  \n",
       "                                       3rd Qu.:2014  \n",
       "                                       Max.   :2021  \n",
       "                                       NA's   :10    "
      ]
     },
     "metadata": {},
     "output_type": "display_data"
    }
   ],
   "source": [
    "summary(choppies)"
   ]
  },
  {
   "cell_type": "markdown",
   "id": "5d016ad8",
   "metadata": {},
   "source": [
    "## Choppies Map"
   ]
  },
  {
   "cell_type": "code",
   "execution_count": 228,
   "id": "5aed08bb",
   "metadata": {
    "scrolled": true
   },
   "outputs": [],
   "source": [
    "library(dplyr)"
   ]
  },
  {
   "cell_type": "markdown",
   "id": "3d86106f",
   "metadata": {},
   "source": [
    "Removing NAs..."
   ]
  },
  {
   "cell_type": "code",
   "execution_count": 230,
   "id": "8385e9c8",
   "metadata": {},
   "outputs": [],
   "source": [
    "choppies_map <- choppies %>% \n",
    "filter(!is.na(longitude),!is.na(latitude), !is.na(Date)) %>%\n",
    "data.frame"
   ]
  },
  {
   "cell_type": "code",
   "execution_count": 231,
   "id": "ae600eb1",
   "metadata": {},
   "outputs": [
    {
     "name": "stdout",
     "output_type": "stream",
     "text": [
      "'data.frame':\t74 obs. of  11 variables:\n",
      " $ Name      : chr  \"Choppies Bobonong\" \"Choppies Letlhakane\" \"Choppies Mahalapye\" \"Choppies Palapye\" ...\n",
      " $ District  : Factor w/ 13 levels \"Central\",\"Chobe\",..: 1 1 1 1 1 1 1 1 1 1 ...\n",
      " $ Town      : chr  \"Bobonong\" \"Letlhakane\" \"Mahalapye\" \"Palapye\" ...\n",
      " $ Address   : chr  \"Moilamba Ward,Cash Bazaar building\" \"Nkosho Ward,Letlhakane\" \"Plot 6042, Main Mall, Mahalapye\" \"Makwapa complex,Serorome Ward,Palapye\" ...\n",
      " $ latitude  : num  -22 -21.4 -23.1 -22.5 -22.5 ...\n",
      " $ longitude : num  28.4 25.6 26.8 27.1 27.1 ...\n",
      " $ Date      : Date, format: \"2012-09-12\" \"2007-10-12\" ...\n",
      " $ Cancelled : logi  NA NA NA NA NA NA ...\n",
      " $ Registered: chr  \"Y\" \"Y\" \"Y\" \"Y\" ...\n",
      " $ Store     : chr  \"choppies\" \"choppies\" \"choppies\" \"choppies\" ...\n",
      " $ year      : num  2012 2007 2012 2005 2020 ...\n"
     ]
    }
   ],
   "source": [
    "str(choppies_map)"
   ]
  },
  {
   "cell_type": "code",
   "execution_count": 232,
   "id": "4b8880bb",
   "metadata": {},
   "outputs": [
    {
     "data": {
      "text/plain": [
       "     Name                 District      Town             Address         \n",
       " Length:74          South-East:24   Length:74          Length:74         \n",
       " Class :character   Central   :14   Class :character   Class :character  \n",
       " Mode  :character   Kweneng   :12   Mode  :character   Mode  :character  \n",
       "                    Southern  : 8                                        \n",
       "                    North-East: 4                                        \n",
       "                    North-West: 4                                        \n",
       "                    (Other)   : 8                                        \n",
       "    latitude        longitude          Date            Cancelled     \n",
       " Min.   :-26.02   Min.   :21.64   Min.   :1999-11-02   Mode:logical  \n",
       " 1st Qu.:-24.66   1st Qu.:25.52   1st Qu.:2005-09-13   NA's:74       \n",
       " Median :-24.61   Median :25.88   Median :2011-08-06                 \n",
       " Mean   :-23.42   Mean   :25.80   Mean   :2010-12-12                 \n",
       " 3rd Qu.:-21.97   3rd Qu.:26.13   3rd Qu.:2013-11-11                 \n",
       " Max.   :-17.80   Max.   :28.42   Max.   :2021-10-28                 \n",
       "                                                                     \n",
       "  Registered           Store                year     \n",
       " Length:74          Length:74          Min.   :1999  \n",
       " Class :character   Class :character   1st Qu.:2005  \n",
       " Mode  :character   Mode  :character   Median :2011  \n",
       "                                       Mean   :2010  \n",
       "                                       3rd Qu.:2013  \n",
       "                                       Max.   :2021  \n",
       "                                                     "
      ]
     },
     "metadata": {},
     "output_type": "display_data"
    }
   ],
   "source": [
    "summary(choppies_map)"
   ]
  },
  {
   "cell_type": "code",
   "execution_count": 233,
   "id": "190334ac",
   "metadata": {},
   "outputs": [],
   "source": [
    "library(sf)\n",
    "library(rnaturalearth)\n",
    "library(rnaturalearthdata)\n",
    "library(ggplot2)\n",
    "library(plotly)\n",
    "library(viridis)"
   ]
  },
  {
   "cell_type": "code",
   "execution_count": 234,
   "id": "bc219d45",
   "metadata": {},
   "outputs": [],
   "source": [
    "#install.packages(\"devtools\") # I guess you also need this\n",
    "#devtools::install_github(\"ropensci/rnaturalearthhires\")\n",
    "library(\"rnaturalearth\")"
   ]
  },
  {
   "cell_type": "code",
   "execution_count": 235,
   "id": "6621087c",
   "metadata": {},
   "outputs": [],
   "source": [
    "BW_states <- ne_states(country = 'botswana', returnclass = 'sf')\n",
    "#str(BW_states)"
   ]
  },
  {
   "cell_type": "code",
   "execution_count": 240,
   "id": "bbfdbb04",
   "metadata": {
    "scrolled": true
   },
   "outputs": [
    {
     "data": {
      "image/png": "[encoded data removed]",
      "text/plain": [
       "plot without title"
      ]
     },
     "metadata": {
      "image/png": {
       "height": 420,
       "width": 420
      }
     },
     "output_type": "display_data"
    }
   ],
   "source": [
    "set.seed(3)\n",
    "ggplot(data = BW_states) + geom_sf() +\n",
    "geom_jitter(data = choppies_map, \n",
    "           mapping=aes(x = longitude, y = latitude, \n",
    "               colour = District, alpha = 0.5), \n",
    "            width = 0.1, height = 0.15) +\n",
    "ggtitle(\"Location of Choppies Stores in Botswana\" ) +\n",
    "theme(plot.title = element_text(hjust = 0.5)) +\n",
    "scale_color_viridis_d()\n",
    "\n",
    "#ggplotly(g)"
   ]
  },
  {
   "cell_type": "code",
   "execution_count": null,
   "id": "3e9b0e27",
   "metadata": {},
   "outputs": [],
   "source": [
    "## Choppies Animated"
   ]
  },
  {
   "cell_type": "code",
   "execution_count": 237,
   "id": "d38ac5e9",
   "metadata": {},
   "outputs": [],
   "source": [
    "library(gganimate)\n",
    "library(gifski)"
   ]
  },
  {
   "cell_type": "code",
   "execution_count": 238,
   "id": "3c4c9dd9",
   "metadata": {},
   "outputs": [],
   "source": [
    "set.seed(3)\n",
    "map_with_data <- ggplot(data = BW_states) + geom_sf() +\n",
    "geom_jitter(data = choppies_map, \n",
    "           mapping=aes(x = longitude, y = latitude, \n",
    "               colour = District, alpha = 0.5, group = year), \n",
    "            width = 0.1, height = 0.15) +\n",
    "scale_color_viridis_d()\n"
   ]
  },
  {
   "cell_type": "code",
   "execution_count": 21,
   "id": "70d07fee",
   "metadata": {},
   "outputs": [],
   "source": [
    "num_years <- max(choppies_map$year) - min(choppies_map$year) + 1\n",
    "\n",
    "map_with_animation <- map_with_data +\n",
    "    transition_time(year) +\n",
    "ggtitle('The growth of choppies: {frame_time}')\n",
    "\n",
    "map_with_animation <- map_with_animation +\n",
    "shadow_mark()\n",
    "\n",
    "\n",
    "animate(map_with_animation, nframes = num_years, fps = 1)\n",
    "anim_save('choppies_growth.gif')"
   ]
  }
 ],
 "metadata": {
  "celltoolbar": "Raw Cell Format",
  "kernelspec": {
   "display_name": "R",
   "language": "R",
   "name": "ir"
  },
  "language_info": {
   "codemirror_mode": "r",
   "file_extension": ".r",
   "mimetype": "text/x-r-source",
   "name": "R",
   "pygments_lexer": "r",
   "version": "4.1.3"
  }
 },
 "nbformat": 4,
 "nbformat_minor": 5
}
