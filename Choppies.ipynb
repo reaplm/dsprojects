{
 "cells": [
  {
   "cell_type": "markdown",
   "metadata": {},
   "source": [
    "# Choppies Stores"
   ]
  },
  {
   "cell_type": "markdown",
   "metadata": {},
   "source": [
    "## Summary"
   ]
  },
  {
   "cell_type": "code",
   "execution_count": 139,
   "metadata": {},
   "outputs": [],
   "source": [
    "#Choppies.csv\n",
    "choppies <- read.csv(\"choppies.csv\")"
   ]
  },
  {
   "cell_type": "code",
   "execution_count": 140,
   "metadata": {},
   "outputs": [],
   "source": [
    "choppies$Name <- as.character(choppies$Name )\n",
    "choppies$Address <- as.character(choppies$Address)\n",
    "choppies$Date <- as.Date(choppies$Date, \"%d/%m/%Y\")"
   ]
  },
  {
   "cell_type": "code",
   "execution_count": 141,
   "metadata": {},
   "outputs": [],
   "source": [
    "names(choppies) <- tolower(names(choppies))"
   ]
  },
  {
   "cell_type": "code",
   "execution_count": 142,
   "metadata": {},
   "outputs": [
    {
     "name": "stdout",
     "output_type": "stream",
     "text": [
      "'data.frame':\t108 obs. of  10 variables:\n",
      " $ name      : chr  \"Choppies Bobonong\" \"Choppies Letlhakane\" \"Choppies Mahalapye\" \"Choppies Mahalapye\" ...\n",
      " $ district  : chr  \"Central\" \"Central\" \"Central\" \"Central\" ...\n",
      " $ town      : chr  \"Bobonong\" \"Letlhakane\" \"Mahalapye\" \"Mahalapye\" ...\n",
      " $ address   : chr  \"Moilamba Ward,Cash Bazaar building\" \"Nkosho Ward,Letlhakane\" \"Plot 6042, Main Mall, Mahalapye\" \"Watershed Mall, A1,  Mahalapye\" ...\n",
      " $ latitude  : num  -22 -21.4 -23.1 -23.1 NA ...\n",
      " $ longitude : num  28.4 25.6 26.8 26.8 NA ...\n",
      " $ date      : Date, format: \"2012-09-12\" \"2007-10-12\" ...\n",
      " $ cancelled : logi  NA NA NA NA NA NA ...\n",
      " $ registered: chr  \"Y\" \"Y\" \"Y\" \"Y\" ...\n",
      " $ store     : chr  \"choppies\" \"choppies\" \"choppies\" \"choppies\" ...\n"
     ]
    }
   ],
   "source": [
    "str(choppies)"
   ]
  },
  {
   "cell_type": "code",
   "execution_count": 9,
   "metadata": {},
   "outputs": [
    {
     "data": {
      "text/plain": [
       "     Name             District             Town             Address         \n",
       " Length:108         Length:108         Length:108         Length:108        \n",
       " Class :character   Class :character   Class :character   Class :character  \n",
       " Mode  :character   Mode  :character   Mode  :character   Mode  :character  \n",
       "                                                                            \n",
       "                                                                            \n",
       "                                                                            \n",
       "                                                                            \n",
       "    latitude        longitude         Date           Cancelled     \n",
       " Min.   :-26.02   Min.   :21.64   Length:108         Mode:logical  \n",
       " 1st Qu.:-24.66   1st Qu.:25.55   Class :character   NA's:108      \n",
       " Median :-24.61   Median :25.87   Mode  :character                 \n",
       " Mean   :-23.48   Mean   :25.81                                    \n",
       " 3rd Qu.:-21.98   3rd Qu.:26.11                                    \n",
       " Max.   :-17.80   Max.   :28.42                                    \n",
       " NA's   :29       NA's   :29                                       \n",
       "  Registered           Store          \n",
       " Length:108         Length:108        \n",
       " Class :character   Class :character  \n",
       " Mode  :character   Mode  :character  \n",
       "                                      \n",
       "                                      \n",
       "                                      \n",
       "                                      "
      ]
     },
     "metadata": {},
     "output_type": "display_data"
    }
   ],
   "source": [
    "summary(choppies)"
   ]
  },
  {
   "cell_type": "markdown",
   "metadata": {},
   "source": [
    "## Number of Stores and Locations"
   ]
  },
  {
   "cell_type": "code",
   "execution_count": 22,
   "metadata": {
    "scrolled": true
   },
   "outputs": [
    {
     "name": "stderr",
     "output_type": "stream",
     "text": [
      "-- \u001b[1mAttaching packages\u001b[22m --------------------------------------- tidyverse 1.3.1 --\n",
      "\n",
      "\u001b[32mv\u001b[39m \u001b[34mggplot2\u001b[39m 3.3.6     \u001b[32mv\u001b[39m \u001b[34mpurrr  \u001b[39m 0.3.4\n",
      "\u001b[32mv\u001b[39m \u001b[34mtibble \u001b[39m 3.1.7     \u001b[32mv\u001b[39m \u001b[34mstringr\u001b[39m 1.4.0\n",
      "\u001b[32mv\u001b[39m \u001b[34mtidyr  \u001b[39m 1.2.0     \u001b[32mv\u001b[39m \u001b[34mforcats\u001b[39m 0.5.1\n",
      "\u001b[32mv\u001b[39m \u001b[34mreadr  \u001b[39m 2.1.2     \n",
      "\n",
      "-- \u001b[1mConflicts\u001b[22m ------------------------------------------ tidyverse_conflicts() --\n",
      "\u001b[31mx\u001b[39m \u001b[34mdplyr\u001b[39m::\u001b[32mfilter()\u001b[39m masks \u001b[34mstats\u001b[39m::filter()\n",
      "\u001b[31mx\u001b[39m \u001b[34mdplyr\u001b[39m::\u001b[32mlag()\u001b[39m    masks \u001b[34mstats\u001b[39m::lag()\n",
      "\n"
     ]
    }
   ],
   "source": [
    "library(dplyr)\n",
    "library(tidyverse)"
   ]
  },
  {
   "cell_type": "markdown",
   "metadata": {},
   "source": [
    "South-East region contains the highest number of stores followed by Kweneng and Central districts. Combined, the the three districts contain 71% of the total stores in the country. "
   ]
  },
  {
   "cell_type": "code",
   "execution_count": 178,
   "metadata": {},
   "outputs": [
    {
     "data": {
      "text/html": [
       "<table class=\"dataframe\">\n",
       "<caption>A tibble: 6 × 4</caption>\n",
       "<thead>\n",
       "\t<tr><th scope=col>district</th><th scope=col>n</th><th scope=col>percent</th><th scope=col>cum_per</th></tr>\n",
       "\t<tr><th scope=col>&lt;chr&gt;</th><th scope=col>&lt;int&gt;</th><th scope=col>&lt;dbl&gt;</th><th scope=col>&lt;dbl&gt;</th></tr>\n",
       "</thead>\n",
       "<tbody>\n",
       "\t<tr><td>South-East</td><td>42</td><td>38.89</td><td>38.89</td></tr>\n",
       "\t<tr><td>Kweneng   </td><td>18</td><td>16.67</td><td>55.56</td></tr>\n",
       "\t<tr><td>Central   </td><td>17</td><td>15.74</td><td>71.30</td></tr>\n",
       "\t<tr><td>Southern  </td><td> 9</td><td> 8.33</td><td>79.63</td></tr>\n",
       "\t<tr><td>North-East</td><td> 7</td><td> 6.48</td><td>86.11</td></tr>\n",
       "\t<tr><td>North-West</td><td> 4</td><td> 3.70</td><td>89.81</td></tr>\n",
       "</tbody>\n",
       "</table>\n"
      ],
      "text/latex": [
       "A tibble: 6 × 4\n",
       "\\begin{tabular}{llll}\n",
       " district & n & percent & cum\\_per\\\\\n",
       " <chr> & <int> & <dbl> & <dbl>\\\\\n",
       "\\hline\n",
       "\t South-East & 42 & 38.89 & 38.89\\\\\n",
       "\t Kweneng    & 18 & 16.67 & 55.56\\\\\n",
       "\t Central    & 17 & 15.74 & 71.30\\\\\n",
       "\t Southern   &  9 &  8.33 & 79.63\\\\\n",
       "\t North-East &  7 &  6.48 & 86.11\\\\\n",
       "\t North-West &  4 &  3.70 & 89.81\\\\\n",
       "\\end{tabular}\n"
      ],
      "text/markdown": [
       "\n",
       "A tibble: 6 × 4\n",
       "\n",
       "| district &lt;chr&gt; | n &lt;int&gt; | percent &lt;dbl&gt; | cum_per &lt;dbl&gt; |\n",
       "|---|---|---|---|\n",
       "| South-East | 42 | 38.89 | 38.89 |\n",
       "| Kweneng    | 18 | 16.67 | 55.56 |\n",
       "| Central    | 17 | 15.74 | 71.30 |\n",
       "| Southern   |  9 |  8.33 | 79.63 |\n",
       "| North-East |  7 |  6.48 | 86.11 |\n",
       "| North-West |  4 |  3.70 | 89.81 |\n",
       "\n"
      ],
      "text/plain": [
       "  district   n  percent cum_per\n",
       "1 South-East 42 38.89   38.89  \n",
       "2 Kweneng    18 16.67   55.56  \n",
       "3 Central    17 15.74   71.30  \n",
       "4 Southern    9  8.33   79.63  \n",
       "5 North-East  7  6.48   86.11  \n",
       "6 North-West  4  3.70   89.81  "
      ]
     },
     "metadata": {},
     "output_type": "display_data"
    }
   ],
   "source": [
    "district_summary <- choppies %>% \n",
    "group_by(district) %>% \n",
    "summarise(n = n()) %>% \n",
    "mutate(percent = round(100*n/sum(n),2)) %>%\n",
    "arrange(desc(n)) %>%\n",
    "mutate(cum_per = cumsum(percent)) %>%\n",
    "head()\n",
    "\n",
    "district_summary"
   ]
  },
  {
   "cell_type": "code",
   "execution_count": 114,
   "metadata": {},
   "outputs": [
    {
     "name": "stderr",
     "output_type": "stream",
     "text": [
      "\u001b[1m\u001b[22mSelecting by percent\n"
     ]
    },
    {
     "data": {
      "text/html": [
       "<style>\n",
       ".list-inline {list-style: none; margin:0; padding: 0}\n",
       ".list-inline>li {display: inline-block}\n",
       ".list-inline>li:not(:last-child)::after {content: \"\\00b7\"; padding: 0 .5ex}\n",
       "</style>\n",
       "<ol class=list-inline><li>'South-East'</li><li>'Kweneng'</li><li>'Central'</li></ol>\n"
      ],
      "text/latex": [
       "\\begin{enumerate*}\n",
       "\\item 'South-East'\n",
       "\\item 'Kweneng'\n",
       "\\item 'Central'\n",
       "\\end{enumerate*}\n"
      ],
      "text/markdown": [
       "1. 'South-East'\n",
       "2. 'Kweneng'\n",
       "3. 'Central'\n",
       "\n",
       "\n"
      ],
      "text/plain": [
       "[1] \"South-East\" \"Kweneng\"    \"Central\"   "
      ]
     },
     "metadata": {},
     "output_type": "display_data"
    }
   ],
   "source": [
    "top_3 <- district_summary %>%\n",
    "top_n(3) %>%\n",
    "select(district) %>%\n",
    "pull()\n",
    "\n",
    "top_3"
   ]
  },
  {
   "cell_type": "code",
   "execution_count": 115,
   "metadata": {},
   "outputs": [],
   "source": [
    "top_district <- choppies %>% \n",
    "select(district,town) %>%\n",
    "filter(district %in% top_3) %>%\n",
    "group_by(district,town) %>%\n",
    "arrange(district) %>%\n",
    "distinct()\n"
   ]
  },
  {
   "cell_type": "markdown",
   "metadata": {},
   "source": [
    "Listing the towns in the top districts and the number of stores in the top towns."
   ]
  },
  {
   "cell_type": "code",
   "execution_count": 116,
   "metadata": {},
   "outputs": [
    {
     "data": {
      "text/html": [
       "<table class=\"dataframe\">\n",
       "<caption>A tibble: 1 × 3</caption>\n",
       "<thead>\n",
       "\t<tr><th scope=col>Central</th><th scope=col>Kweneng</th><th scope=col>South-East</th></tr>\n",
       "\t<tr><th scope=col>&lt;list&gt;</th><th scope=col>&lt;list&gt;</th><th scope=col>&lt;list&gt;</th></tr>\n",
       "</thead>\n",
       "<tbody>\n",
       "\t<tr><td>Bobonong  , Letlhakane, Mahalapye , Palapye   , Phikwe    , Serowe    , Shoshong  , Sebina    , Tonota    , Tutume    , Nata      </td><td>Gabane       , Mogoditshane , Metsimotlhabe, Molepolole   , Letlhakeng   , Thamaga      , Thebephatswa </td><td>Gaborone   , Phakalane  , Tlokweng   , Lobatse    , Ramotswa   , Glen Valley</td></tr>\n",
       "</tbody>\n",
       "</table>\n"
      ],
      "text/latex": [
       "A tibble: 1 × 3\n",
       "\\begin{tabular}{lll}\n",
       " Central & Kweneng & South-East\\\\\n",
       " <list> & <list> & <list>\\\\\n",
       "\\hline\n",
       "\t Bobonong  , Letlhakane, Mahalapye , Palapye   , Phikwe    , Serowe    , Shoshong  , Sebina    , Tonota    , Tutume    , Nata       & Gabane       , Mogoditshane , Metsimotlhabe, Molepolole   , Letlhakeng   , Thamaga      , Thebephatswa  & Gaborone   , Phakalane  , Tlokweng   , Lobatse    , Ramotswa   , Glen Valley\\\\\n",
       "\\end{tabular}\n"
      ],
      "text/markdown": [
       "\n",
       "A tibble: 1 × 3\n",
       "\n",
       "| Central &lt;list&gt; | Kweneng &lt;list&gt; | South-East &lt;list&gt; |\n",
       "|---|---|---|\n",
       "| Bobonong  , Letlhakane, Mahalapye , Palapye   , Phikwe    , Serowe    , Shoshong  , Sebina    , Tonota    , Tutume    , Nata       | Gabane       , Mogoditshane , Metsimotlhabe, Molepolole   , Letlhakeng   , Thamaga      , Thebephatswa  | Gaborone   , Phakalane  , Tlokweng   , Lobatse    , Ramotswa   , Glen Valley |\n",
       "\n"
      ],
      "text/plain": [
       "  Central                                                                                                                           \n",
       "1 Bobonong  , Letlhakane, Mahalapye , Palapye   , Phikwe    , Serowe    , Shoshong  , Sebina    , Tonota    , Tutume    , Nata      \n",
       "  Kweneng                                                                                                \n",
       "1 Gabane       , Mogoditshane , Metsimotlhabe, Molepolole   , Letlhakeng   , Thamaga      , Thebephatswa \n",
       "  South-East                                                                  \n",
       "1 Gaborone   , Phakalane  , Tlokweng   , Lobatse    , Ramotswa   , Glen Valley"
      ]
     },
     "metadata": {},
     "output_type": "display_data"
    }
   ],
   "source": [
    "\n",
    "pivot_wider(top_district, names_from = district, values_from = town, values_fn = list)"
   ]
  },
  {
   "cell_type": "code",
   "execution_count": 119,
   "metadata": {},
   "outputs": [
    {
     "name": "stderr",
     "output_type": "stream",
     "text": [
      "\u001b[1m\u001b[22mSelecting by n\n"
     ]
    },
    {
     "data": {
      "text/html": [
       "<table class=\"dataframe\">\n",
       "<caption>A tibble: 10 × 2</caption>\n",
       "<thead>\n",
       "\t<tr><th scope=col>town</th><th scope=col>n</th></tr>\n",
       "\t<tr><th scope=col>&lt;chr&gt;</th><th scope=col>&lt;int&gt;</th></tr>\n",
       "</thead>\n",
       "<tbody>\n",
       "\t<tr><td>Gaborone    </td><td>28</td></tr>\n",
       "\t<tr><td>Mogoditshane</td><td> 9</td></tr>\n",
       "\t<tr><td>Francistown </td><td> 7</td></tr>\n",
       "\t<tr><td>Lobatse     </td><td> 7</td></tr>\n",
       "\t<tr><td>Mahalapye   </td><td> 3</td></tr>\n",
       "\t<tr><td>Maun        </td><td> 3</td></tr>\n",
       "\t<tr><td>Molepolole  </td><td> 3</td></tr>\n",
       "\t<tr><td>Palapye     </td><td> 3</td></tr>\n",
       "\t<tr><td>Ramotswa    </td><td> 3</td></tr>\n",
       "\t<tr><td>Tlokweng    </td><td> 3</td></tr>\n",
       "</tbody>\n",
       "</table>\n"
      ],
      "text/latex": [
       "A tibble: 10 × 2\n",
       "\\begin{tabular}{ll}\n",
       " town & n\\\\\n",
       " <chr> & <int>\\\\\n",
       "\\hline\n",
       "\t Gaborone     & 28\\\\\n",
       "\t Mogoditshane &  9\\\\\n",
       "\t Francistown  &  7\\\\\n",
       "\t Lobatse      &  7\\\\\n",
       "\t Mahalapye    &  3\\\\\n",
       "\t Maun         &  3\\\\\n",
       "\t Molepolole   &  3\\\\\n",
       "\t Palapye      &  3\\\\\n",
       "\t Ramotswa     &  3\\\\\n",
       "\t Tlokweng     &  3\\\\\n",
       "\\end{tabular}\n"
      ],
      "text/markdown": [
       "\n",
       "A tibble: 10 × 2\n",
       "\n",
       "| town &lt;chr&gt; | n &lt;int&gt; |\n",
       "|---|---|\n",
       "| Gaborone     | 28 |\n",
       "| Mogoditshane |  9 |\n",
       "| Francistown  |  7 |\n",
       "| Lobatse      |  7 |\n",
       "| Mahalapye    |  3 |\n",
       "| Maun         |  3 |\n",
       "| Molepolole   |  3 |\n",
       "| Palapye      |  3 |\n",
       "| Ramotswa     |  3 |\n",
       "| Tlokweng     |  3 |\n",
       "\n"
      ],
      "text/plain": [
       "   town         n \n",
       "1  Gaborone     28\n",
       "2  Mogoditshane  9\n",
       "3  Francistown   7\n",
       "4  Lobatse       7\n",
       "5  Mahalapye     3\n",
       "6  Maun          3\n",
       "7  Molepolole    3\n",
       "8  Palapye       3\n",
       "9  Ramotswa      3\n",
       "10 Tlokweng      3"
      ]
     },
     "metadata": {},
     "output_type": "display_data"
    }
   ],
   "source": [
    "top_towns_n <- choppies %>% group_by(town) %>% \n",
    "summarise(n = n()) %>% \n",
    "arrange(desc(n)) %>%\n",
    "top_n(10) \n",
    "\n",
    "top_towns_n"
   ]
  },
  {
   "cell_type": "code",
   "execution_count": 143,
   "metadata": {},
   "outputs": [
    {
     "data": {
      "text/html": [
       "<style>\n",
       ".list-inline {list-style: none; margin:0; padding: 0}\n",
       ".list-inline>li {display: inline-block}\n",
       ".list-inline>li:not(:last-child)::after {content: \"\\00b7\"; padding: 0 .5ex}\n",
       "</style>\n",
       "<ol class=list-inline><li>'Gaborone'</li><li>'Mogoditshane'</li><li>'Francistown'</li><li>'Lobatse'</li><li>'Mahalapye'</li><li>'Maun'</li><li>'Molepolole'</li><li>'Palapye'</li><li>'Ramotswa'</li><li>'Tlokweng'</li></ol>\n"
      ],
      "text/latex": [
       "\\begin{enumerate*}\n",
       "\\item 'Gaborone'\n",
       "\\item 'Mogoditshane'\n",
       "\\item 'Francistown'\n",
       "\\item 'Lobatse'\n",
       "\\item 'Mahalapye'\n",
       "\\item 'Maun'\n",
       "\\item 'Molepolole'\n",
       "\\item 'Palapye'\n",
       "\\item 'Ramotswa'\n",
       "\\item 'Tlokweng'\n",
       "\\end{enumerate*}\n"
      ],
      "text/markdown": [
       "1. 'Gaborone'\n",
       "2. 'Mogoditshane'\n",
       "3. 'Francistown'\n",
       "4. 'Lobatse'\n",
       "5. 'Mahalapye'\n",
       "6. 'Maun'\n",
       "7. 'Molepolole'\n",
       "8. 'Palapye'\n",
       "9. 'Ramotswa'\n",
       "10. 'Tlokweng'\n",
       "\n",
       "\n"
      ],
      "text/plain": [
       " [1] \"Gaborone\"     \"Mogoditshane\" \"Francistown\"  \"Lobatse\"      \"Mahalapye\"   \n",
       " [6] \"Maun\"         \"Molepolole\"   \"Palapye\"      \"Ramotswa\"     \"Tlokweng\"    "
      ]
     },
     "metadata": {},
     "output_type": "display_data"
    }
   ],
   "source": [
    "top_towns <- top_towns_n %>%\n",
    "select(town) %>%\n",
    "pull()\n",
    "\n",
    "top_towns"
   ]
  },
  {
   "cell_type": "markdown",
   "metadata": {},
   "source": [
    "### Choppies By Year"
   ]
  },
  {
   "cell_type": "markdown",
   "metadata": {},
   "source": [
    "Choppies saw the largest growth between 2005 and 2013. Between these years, South-East, Kweneng and Central saw the high number of stores."
   ]
  },
  {
   "cell_type": "code",
   "execution_count": 144,
   "metadata": {},
   "outputs": [],
   "source": [
    "choppies$month <- months(choppies$date)\n",
    "choppies$year <- as.numeric(format(choppies$date, \"%Y\"))"
   ]
  },
  {
   "cell_type": "code",
   "execution_count": 147,
   "metadata": {},
   "outputs": [
    {
     "name": "stdout",
     "output_type": "stream",
     "text": [
      "'data.frame':\t108 obs. of  12 variables:\n",
      " $ name      : chr  \"Choppies Bobonong\" \"Choppies Letlhakane\" \"Choppies Mahalapye\" \"Choppies Mahalapye\" ...\n",
      " $ district  : chr  \"Central\" \"Central\" \"Central\" \"Central\" ...\n",
      " $ town      : chr  \"Bobonong\" \"Letlhakane\" \"Mahalapye\" \"Mahalapye\" ...\n",
      " $ address   : chr  \"Moilamba Ward,Cash Bazaar building\" \"Nkosho Ward,Letlhakane\" \"Plot 6042, Main Mall, Mahalapye\" \"Watershed Mall, A1,  Mahalapye\" ...\n",
      " $ latitude  : num  -22 -21.4 -23.1 -23.1 NA ...\n",
      " $ longitude : num  28.4 25.6 26.8 26.8 NA ...\n",
      " $ date      : Date, format: \"2012-09-12\" \"2007-10-12\" ...\n",
      " $ cancelled : logi  NA NA NA NA NA NA ...\n",
      " $ registered: chr  \"Y\" \"Y\" \"Y\" \"Y\" ...\n",
      " $ store     : chr  \"choppies\" \"choppies\" \"choppies\" \"choppies\" ...\n",
      " $ month     : chr  \"September\" \"October\" \"January\" NA ...\n",
      " $ year      : num  2012 2007 2012 NA 2012 ...\n"
     ]
    }
   ],
   "source": [
    "str(choppies)"
   ]
  },
  {
   "cell_type": "code",
   "execution_count": 180,
   "metadata": {},
   "outputs": [
    {
     "data": {
      "text/html": [
       "<table class=\"dataframe\">\n",
       "<caption>A tibble: 17 × 2</caption>\n",
       "<thead>\n",
       "\t<tr><th scope=col>year</th><th scope=col>n</th></tr>\n",
       "\t<tr><th scope=col>&lt;dbl&gt;</th><th scope=col>&lt;int&gt;</th></tr>\n",
       "</thead>\n",
       "<tbody>\n",
       "\t<tr><td>1999</td><td> 2</td></tr>\n",
       "\t<tr><td>2003</td><td> 7</td></tr>\n",
       "\t<tr><td>2004</td><td> 1</td></tr>\n",
       "\t<tr><td>2005</td><td>11</td></tr>\n",
       "\t<tr><td>2006</td><td> 6</td></tr>\n",
       "\t<tr><td>2007</td><td> 2</td></tr>\n",
       "\t<tr><td>2010</td><td>11</td></tr>\n",
       "\t<tr><td>2011</td><td> 6</td></tr>\n",
       "\t<tr><td>2012</td><td>14</td></tr>\n",
       "\t<tr><td>2013</td><td>10</td></tr>\n",
       "\t<tr><td>2014</td><td> 4</td></tr>\n",
       "\t<tr><td>2015</td><td> 2</td></tr>\n",
       "\t<tr><td>2016</td><td> 3</td></tr>\n",
       "\t<tr><td>2017</td><td> 3</td></tr>\n",
       "\t<tr><td>2018</td><td>11</td></tr>\n",
       "\t<tr><td>2020</td><td> 2</td></tr>\n",
       "\t<tr><td>2021</td><td> 3</td></tr>\n",
       "</tbody>\n",
       "</table>\n"
      ],
      "text/latex": [
       "A tibble: 17 × 2\n",
       "\\begin{tabular}{ll}\n",
       " year & n\\\\\n",
       " <dbl> & <int>\\\\\n",
       "\\hline\n",
       "\t 1999 &  2\\\\\n",
       "\t 2003 &  7\\\\\n",
       "\t 2004 &  1\\\\\n",
       "\t 2005 & 11\\\\\n",
       "\t 2006 &  6\\\\\n",
       "\t 2007 &  2\\\\\n",
       "\t 2010 & 11\\\\\n",
       "\t 2011 &  6\\\\\n",
       "\t 2012 & 14\\\\\n",
       "\t 2013 & 10\\\\\n",
       "\t 2014 &  4\\\\\n",
       "\t 2015 &  2\\\\\n",
       "\t 2016 &  3\\\\\n",
       "\t 2017 &  3\\\\\n",
       "\t 2018 & 11\\\\\n",
       "\t 2020 &  2\\\\\n",
       "\t 2021 &  3\\\\\n",
       "\\end{tabular}\n"
      ],
      "text/markdown": [
       "\n",
       "A tibble: 17 × 2\n",
       "\n",
       "| year &lt;dbl&gt; | n &lt;int&gt; |\n",
       "|---|---|\n",
       "| 1999 |  2 |\n",
       "| 2003 |  7 |\n",
       "| 2004 |  1 |\n",
       "| 2005 | 11 |\n",
       "| 2006 |  6 |\n",
       "| 2007 |  2 |\n",
       "| 2010 | 11 |\n",
       "| 2011 |  6 |\n",
       "| 2012 | 14 |\n",
       "| 2013 | 10 |\n",
       "| 2014 |  4 |\n",
       "| 2015 |  2 |\n",
       "| 2016 |  3 |\n",
       "| 2017 |  3 |\n",
       "| 2018 | 11 |\n",
       "| 2020 |  2 |\n",
       "| 2021 |  3 |\n",
       "\n"
      ],
      "text/plain": [
       "   year n \n",
       "1  1999  2\n",
       "2  2003  7\n",
       "3  2004  1\n",
       "4  2005 11\n",
       "5  2006  6\n",
       "6  2007  2\n",
       "7  2010 11\n",
       "8  2011  6\n",
       "9  2012 14\n",
       "10 2013 10\n",
       "11 2014  4\n",
       "12 2015  2\n",
       "13 2016  3\n",
       "14 2017  3\n",
       "15 2018 11\n",
       "16 2020  2\n",
       "17 2021  3"
      ]
     },
     "metadata": {},
     "output_type": "display_data"
    }
   ],
   "source": [
    "choppies %>% \n",
    "filter(!is.na(year)) %>%\n",
    "group_by(year) %>%\n",
    "summarise(n = n()) %>%\n",
    "arrange(year) "
   ]
  },
  {
   "cell_type": "code",
   "execution_count": 219,
   "metadata": {},
   "outputs": [
    {
     "name": "stderr",
     "output_type": "stream",
     "text": [
      "\u001b[1m\u001b[22m`summarise()` has grouped output by 'year'. You can override using the\n",
      "`.groups` argument.\n"
     ]
    },
    {
     "data": {
      "text/html": [
       "<table class=\"dataframe\">\n",
       "<caption>A grouped_df: 6 × 3</caption>\n",
       "<thead>\n",
       "\t<tr><th scope=col>year</th><th scope=col>district</th><th scope=col>n</th></tr>\n",
       "\t<tr><th scope=col>&lt;dbl&gt;</th><th scope=col>&lt;chr&gt;</th><th scope=col>&lt;int&gt;</th></tr>\n",
       "</thead>\n",
       "<tbody>\n",
       "\t<tr><td>2005</td><td>South-East</td><td>6</td></tr>\n",
       "\t<tr><td>2010</td><td>South-East</td><td>6</td></tr>\n",
       "\t<tr><td>2012</td><td>South-East</td><td>6</td></tr>\n",
       "\t<tr><td>2012</td><td>Central   </td><td>5</td></tr>\n",
       "\t<tr><td>2013</td><td>Kweneng   </td><td>4</td></tr>\n",
       "\t<tr><td>2006</td><td>Kweneng   </td><td>3</td></tr>\n",
       "</tbody>\n",
       "</table>\n"
      ],
      "text/latex": [
       "A grouped\\_df: 6 × 3\n",
       "\\begin{tabular}{lll}\n",
       " year & district & n\\\\\n",
       " <dbl> & <chr> & <int>\\\\\n",
       "\\hline\n",
       "\t 2005 & South-East & 6\\\\\n",
       "\t 2010 & South-East & 6\\\\\n",
       "\t 2012 & South-East & 6\\\\\n",
       "\t 2012 & Central    & 5\\\\\n",
       "\t 2013 & Kweneng    & 4\\\\\n",
       "\t 2006 & Kweneng    & 3\\\\\n",
       "\\end{tabular}\n"
      ],
      "text/markdown": [
       "\n",
       "A grouped_df: 6 × 3\n",
       "\n",
       "| year &lt;dbl&gt; | district &lt;chr&gt; | n &lt;int&gt; |\n",
       "|---|---|---|\n",
       "| 2005 | South-East | 6 |\n",
       "| 2010 | South-East | 6 |\n",
       "| 2012 | South-East | 6 |\n",
       "| 2012 | Central    | 5 |\n",
       "| 2013 | Kweneng    | 4 |\n",
       "| 2006 | Kweneng    | 3 |\n",
       "\n"
      ],
      "text/plain": [
       "  year district   n\n",
       "1 2005 South-East 6\n",
       "2 2010 South-East 6\n",
       "3 2012 South-East 6\n",
       "4 2012 Central    5\n",
       "5 2013 Kweneng    4\n",
       "6 2006 Kweneng    3"
      ]
     },
     "metadata": {},
     "output_type": "display_data"
    }
   ],
   "source": [
    "choppies %>% filter(!is.na(year)) %>%\n",
    "filter(between(year,2005,2013)) %>%\n",
    "group_by(year, district) %>%\n",
    "summarise(n = n()) %>%\n",
    "arrange(desc(n)) %>%\n",
    "head()\n"
   ]
  },
  {
   "cell_type": "code",
   "execution_count": 151,
   "metadata": {},
   "outputs": [
    {
     "name": "stderr",
     "output_type": "stream",
     "text": [
      "Loading required package: viridisLite\n",
      "\n"
     ]
    }
   ],
   "source": [
    "library(ggplot2)\n",
    "library(viridis)"
   ]
  },
  {
   "cell_type": "code",
   "execution_count": 152,
   "metadata": {},
   "outputs": [
    {
     "name": "stdout",
     "output_type": "stream",
     "text": [
      "'data.frame':\t98 obs. of  2 variables:\n",
      " $ district: Factor w/ 12 levels \"Central\",\"Chobe\",..: 1 1 1 1 1 1 1 1 1 1 ...\n",
      " $ year    : num  2012 2007 2012 2012 2005 ...\n"
     ]
    }
   ],
   "source": [
    "c <- choppies %>% \n",
    "filter(!is.na(year)) %>%\n",
    "select(district,year) \n",
    "\n",
    "df <- data.frame(c)\n",
    "df$district <- factor(df$district)\n",
    "str(df)\n"
   ]
  },
  {
   "cell_type": "code",
   "execution_count": 208,
   "metadata": {},
   "outputs": [],
   "source": [
    "freq <- df %>%\n",
    "group_by(district, year) %>%\n",
    "mutate(freq = n())"
   ]
  },
  {
   "cell_type": "code",
   "execution_count": 214,
   "metadata": {},
   "outputs": [
    {
     "data": {
      "image/png": "[encoded data removed]",
      "text/plain": [
       "plot without title"
      ]
     },
     "metadata": {
      "image/png": {
       "height": 420,
       "width": 420
      }
     },
     "output_type": "display_data"
    }
   ],
   "source": [
    "ggplot(df,aes(year,fill = district)) + \n",
    "geom_bar() +\n",
    "ggtitle(\"Stores registered between 1999 and 2021\") +\n",
    "theme(plot.title = element_text(hjust = 0.5)) +\n",
    " geom_text(aes(label = after_stat(count)), stat = \"count\", \n",
    "           position = position_stack(vjust = 0.5),\n",
    "           color = \"white\") + \n",
    "scale_fill_viridis(discrete = TRUE)\n"
   ]
  }
 ],
 "metadata": {
  "kernelspec": {
   "display_name": "R",
   "language": "R",
   "name": "ir"
  },
  "language_info": {
   "codemirror_mode": "r",
   "file_extension": ".r",
   "mimetype": "text/x-r-source",
   "name": "R",
   "pygments_lexer": "r",
   "version": "4.1.3"
  }
 },
 "nbformat": 4,
 "nbformat_minor": 4
}
