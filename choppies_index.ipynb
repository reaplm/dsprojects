{
 "cells": [
  {
   "cell_type": "markdown",
   "id": "07641090",
   "metadata": {},
   "source": [
    "# Choppies"
   ]
  },
  {
   "cell_type": "markdown",
   "id": "e3bd6c83",
   "metadata": {},
   "source": [
    "# Page title\n",
    "\n",
    "```{contents}\n",
    "```"
   ]
  }
 ],
 "metadata": {
  "kernelspec": {
   "display_name": "R",
   "language": "R",
   "name": "ir"
  },
  "language_info": {
   "codemirror_mode": "r",
   "file_extension": ".r",
   "mimetype": "text/x-r-source",
   "name": "R",
   "pygments_lexer": "r",
   "version": "4.1.3"
  }
 },
 "nbformat": 4,
 "nbformat_minor": 5
}
